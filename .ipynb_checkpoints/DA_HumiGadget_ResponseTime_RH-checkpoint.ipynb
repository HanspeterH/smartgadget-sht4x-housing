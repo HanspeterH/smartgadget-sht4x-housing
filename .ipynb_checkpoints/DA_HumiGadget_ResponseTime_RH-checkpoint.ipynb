{
 "cells": [
  {
   "cell_type": "markdown",
   "id": "41af726b-2efd-464f-bd4e-bf1f6e0376e9",
   "metadata": {},
   "source": [
    "# DA Humi Gadget in Housing Response Time RH"
   ]
  },
  {
   "cell_type": "code",
   "execution_count": null,
   "id": "ae303f0b-992f-4561-adfb-53207a045fec",
   "metadata": {},
   "outputs": [],
   "source": [
    "import pandas as pd\n",
    "import numpy as np\n",
    "import matplotlib as mpl\n",
    "import matplotlib.pyplot as plt\n",
    "from statistics import mean\n",
    "#from quickplot import QuickPlot\n",
    "\n",
    "import sensirion_fastedf as fastedf\n",
    "import datetime\n",
    "import data_access as da\n",
    "import csv\n",
    "import math\n",
    "from scipy.optimize import curve_fit"
   ]
  }
 ],
 "metadata": {
  "kernelspec": {
   "display_name": "Python 3 (ipykernel)",
   "language": "python",
   "name": "python3"
  },
  "language_info": {
   "codemirror_mode": {
    "name": "ipython",
    "version": 3
   },
   "file_extension": ".py",
   "mimetype": "text/x-python",
   "name": "python",
   "nbconvert_exporter": "python",
   "pygments_lexer": "ipython3",
   "version": "3.8.13"
  }
 },
 "nbformat": 4,
 "nbformat_minor": 5
}
